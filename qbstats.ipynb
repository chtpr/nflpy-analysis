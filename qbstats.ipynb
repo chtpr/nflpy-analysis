{
 "cells": [
  {
   "cell_type": "markdown",
   "id": "a3690b28-1e9a-43b9-9194-9182749899aa",
   "metadata": {},
   "source": [
    "# Question we are trying to answer:\n",
    "\n",
    "Throwing deep passes is more valuable than short passes, but it’s difficult to say whether or not a quarterback is good at deep passes.\n",
    "\n",
    "A question that will help us determine stable versus unstable QB stats. It is a reasonable hypothesis, but to make it scientific, you need to define what “valuable” means and what you mean when we say a player is “good” (or “bad”) at deep passes. To that aim, you need data.\n"
   ]
  },
  {
   "cell_type": "code",
   "execution_count": 1,
   "id": "c87d7774-c206-4bdf-a0e4-0d89a0d0dc9b",
   "metadata": {},
   "outputs": [],
   "source": [
    "import pandas as pd"
   ]
  },
  {
   "cell_type": "code",
   "execution_count": 2,
   "id": "b2e60a92-e651-4897-ac7d-c58587b2702e",
   "metadata": {},
   "outputs": [],
   "source": [
    "import numpy as np"
   ]
  },
  {
   "cell_type": "code",
   "execution_count": 3,
   "id": "a24d6982-e44b-42c2-b547-41130c87bd05",
   "metadata": {},
   "outputs": [],
   "source": [
    "np.float_ = np.float64"
   ]
  },
  {
   "cell_type": "code",
   "execution_count": 4,
   "id": "3d85d5d0-308c-4a28-8e49-bd19dea64e65",
   "metadata": {},
   "outputs": [],
   "source": [
    "import nfl_data_py as nfl"
   ]
  },
  {
   "cell_type": "code",
   "execution_count": 5,
   "id": "da07f5ab-72ce-44ae-ae89-cfbb94530ca3",
   "metadata": {},
   "outputs": [
    {
     "name": "stdout",
     "output_type": "stream",
     "text": [
      "2016 done.\n",
      "2017 done.\n",
      "2018 done.\n",
      "2019 done.\n",
      "2020 done.\n",
      "2021 done.\n",
      "2022 done.\n",
      "Downcasting floats.\n"
     ]
    }
   ],
   "source": [
    "pbp_py = nfl.import_pbp_data(range(2016, 2022 + 1))"
   ]
  },
  {
   "cell_type": "markdown",
   "id": "e830df89-c517-4e7e-bf8a-83afea0128e1",
   "metadata": {},
   "source": [
    "Here, play_type being equal to pass will eliminate both running plays and plays that are negated because of a penalty. Sometimes you want to include plays that have a penalty (for example, if you are using a grade-based system like the one at PFF). Grade-based systems attempt to measure how well the player performed on a play independent of the final statistics of the play, so keeping data where play_type == no_play might have value.\n",
    "\n",
    "For the sake of this exercise, though, we have you omit such plays. You also omit plays where air_yards is NA (in R) or NULL (in Python). These plays occur when a pass is not aimed at an intended receiver because it’s batted down at the line of scrimmage, thrown away, or spiked. While those passes certainly count toward a passer’s final statistics, and are fundamental to who he is as a player, they are not necessarily relevant to the question being asking here."
   ]
  },
  {
   "cell_type": "code",
   "execution_count": 6,
   "id": "e468adce-fb0d-4c46-9f2d-48e7cdfd4b8e",
   "metadata": {},
   "outputs": [],
   "source": [
    "pbp_py_p = (pbp_py\n",
    "            .query(\"play_type == 'pass' & air_yards.notnull()\")\n",
    "            .reset_index())"
   ]
  },
  {
   "cell_type": "markdown",
   "id": "55f98dee-54f0-489b-b467-aa7c31b9db00",
   "metadata": {},
   "source": [
    "First, define a long pass as a pass that has air yards greater than or equal to 20 yards, and a short pass as one with air yards less than 20 yards."
   ]
  },
  {
   "cell_type": "code",
   "execution_count": 7,
   "id": "b746fd29-97ec-4d93-b0d8-eac3ff4f42bd",
   "metadata": {},
   "outputs": [],
   "source": [
    "pbp_py_p['pass_length_air_yards'] = np.where(\n",
    "    pbp_py_p['air_yards'] >= 20, 'long', 'short'\n",
    ")"
   ]
  },
  {
   "cell_type": "markdown",
   "id": "0c4a4b9c-003e-4c9f-be8b-d8f92b5105ec",
   "metadata": {},
   "source": [
    "Second, the passing yards for incomplete passes are recorded as NULL in Python, but should be set to 0 for this analysis. In Python, the numpy (imported as np) package’s where() function helps with these changes."
   ]
  },
  {
   "cell_type": "code",
   "execution_count": 8,
   "id": "e9dc9db7-e744-4a17-b5ab-61a58bb4ede3",
   "metadata": {},
   "outputs": [],
   "source": [
    "pbp_py_p['passing_yards'] = np.where(\n",
    "    pbp_py_p['passing_yards'].isnull(), 0, pbp_py_p['passing_yards']\n",
    ")"
   ]
  },
  {
   "cell_type": "markdown",
   "id": "9ba61c76-b18d-4c2d-bbc2-6309f72b723d",
   "metadata": {},
   "source": [
    "pbp_py_p['passing_yards'].describe()"
   ]
  },
  {
   "cell_type": "code",
   "execution_count": 9,
   "id": "977f9dba-62c9-477e-a045-3d0c574476eb",
   "metadata": {},
   "outputs": [
    {
     "data": {
      "text/plain": [
       "count    116087.000000\n",
       "mean          6.526777\n",
       "std           7.699158\n",
       "min         -20.000000\n",
       "25%           0.000000\n",
       "50%           5.000000\n",
       "75%          10.000000\n",
       "max          95.000000\n",
       "Name: passing_yards, dtype: float64"
      ]
     },
     "execution_count": 9,
     "metadata": {},
     "output_type": "execute_result"
    }
   ],
   "source": [
    "pbp_py_p.query('pass_length_air_yards == \"short\"')[\"passing_yards\"]\\\n",
    "    .describe()"
   ]
  },
  {
   "cell_type": "code",
   "execution_count": 10,
   "id": "33bfb92d-8d2e-41cc-9811-d1fea8d1f753",
   "metadata": {},
   "outputs": [
    {
     "data": {
      "text/plain": [
       "count    15520.000000\n",
       "mean        12.173261\n",
       "std         17.925947\n",
       "min          0.000000\n",
       "25%          0.000000\n",
       "50%          0.000000\n",
       "75%         26.000000\n",
       "max         98.000000\n",
       "Name: passing_yards, dtype: float64"
      ]
     },
     "execution_count": 10,
     "metadata": {},
     "output_type": "execute_result"
    }
   ],
   "source": [
    "pbp_py_p.query('pass_length_air_yards == \"long\"')[\"passing_yards\"]\\\n",
    "    .describe()"
   ]
  },
  {
   "cell_type": "markdown",
   "id": "8075ddb3-9e1d-4953-b149-a8bd0c0b06c0",
   "metadata": {},
   "source": [
    "Basically what these numbers are showing is the difference in various metrics for pass yards completed when throwing a short pass compared to a long one.\n",
    "\n",
    "The point to notice here is that the interquartile range, the difference between the first and third quartile, is much larger for longer passes than for short passes, even though the maximum passing yards are about the same."
   ]
  },
  {
   "cell_type": "code",
   "execution_count": 11,
   "id": "4c4cfdfd-aae4-45b4-b477-e91a77e0f9e8",
   "metadata": {},
   "outputs": [
    {
     "data": {
      "text/plain": [
       "count    116086.000000\n",
       "mean          0.119740\n",
       "std           1.426228\n",
       "min         -13.031219\n",
       "25%          -0.606098\n",
       "50%          -0.002116\n",
       "75%           0.959173\n",
       "max           8.241420\n",
       "Name: epa, dtype: float64"
      ]
     },
     "execution_count": 11,
     "metadata": {},
     "output_type": "execute_result"
    }
   ],
   "source": [
    "pbp_py_p\\\n",
    "    .query('pass_length_air_yards == \"short\"')[\"epa\"]\\\n",
    "    .describe()"
   ]
  },
  {
   "cell_type": "code",
   "execution_count": 12,
   "id": "b8d66c20-b404-4a5e-a1bb-7837f177bbfa",
   "metadata": {},
   "outputs": [
    {
     "data": {
      "text/plain": [
       "count    15520.000000\n",
       "mean         0.382845\n",
       "std          2.185511\n",
       "min        -10.477921\n",
       "25%         -0.827297\n",
       "50%         -0.464970\n",
       "75%          2.135163\n",
       "max          8.789743\n",
       "Name: epa, dtype: float64"
      ]
     },
     "execution_count": 12,
     "metadata": {},
     "output_type": "execute_result"
    }
   ],
   "source": [
    "pbp_py_p\\\n",
    "    .query('pass_length_air_yards == \"long\"')[\"epa\"]\\\n",
    "    .describe()"
   ]
  },
  {
   "cell_type": "markdown",
   "id": "89c66928-c67c-4fb1-9d91-5808e6a25ea5",
   "metadata": {},
   "source": [
    "You get the same dynamic here: wider outcomes for longer passes than shorter ones. Longer passes are more variable than shorter passes.\n",
    "\n",
    "Furthermore, if you look at the mean passing yards per attempt (YPA) and EPA per attempt for longer passes, they are both higher than those for short passes (while the relationship flips for the median, why is that?) (if I had to guess, it could either be there are more interceptions thrown on long passes or that the opportunity cost for long passes is greater). Thus, on average, you can informally confirm the first part of our guiding hypothesis for the chapter: “Throwing deep passes is more valuable than short passes, but it’s difficult to say whether or not a quarterback is good at deep passes.”"
   ]
  },
  {
   "cell_type": "code",
   "execution_count": 13,
   "id": "8e3cc217-43da-4860-99f8-4e055ec696f6",
   "metadata": {},
   "outputs": [
    {
     "data": {
      "text/plain": [
       "<seaborn.axisgrid.FacetGrid at 0x127dd9f10>"
      ]
     },
     "execution_count": 13,
     "metadata": {},
     "output_type": "execute_result"
    },
    {
     "data": {
      "image/png": "[encoded data removed]",
      "text/plain": [
       "<Figure size 500x500 with 1 Axes>"
      ]
     },
     "metadata": {},
     "output_type": "display_data"
    }
   ],
   "source": [
    "import seaborn as sns\n",
    "import matplotlib.pyplot as plt\n",
    "\n",
    "sns.displot(data=pbp_py, x=\"passing_yards\")"
   ]
  },
  {
   "cell_type": "markdown",
   "id": "1285ae2e-b675-4c5b-890d-1ff172c942d1",
   "metadata": {},
   "source": [
    "Passing yards gained ranges from about –10 yards to about 75 yards, with most plays gaining between 0 (often an incompletion) and 10 yards."
   ]
  },
  {
   "cell_type": "code",
   "execution_count": 14,
   "id": "473bee87-52a7-4319-8195-e3d39bc3d630",
   "metadata": {},
   "outputs": [
    {
     "data": {
      "image/png": "[encoded data removed]",
      "text/plain": [
       "<Figure size 500x500 with 1 Axes>"
      ]
     },
     "metadata": {},
     "output_type": "display_data"
    }
   ],
   "source": [
    "sns.set_theme(style=\"whitegrid\", palette=\"colorblind\")\n",
    "\n",
    "pbp_py_p_short = \\\n",
    "    pbp_py_p\\\n",
    "    .query('pass_length_air_yards == \"short\"')\n",
    "\n",
    "pby_py_hist_short = \\\n",
    "    sns.displot(\n",
    "        data=pbp_py_p_short,\n",
    "        binwidth=1,\n",
    "        x='passing_yards'\n",
    "    );\n",
    "pby_py_hist_short\\\n",
    "    .set_axis_labels(\n",
    "        \"Yards gained (or lost) during a passing play\", \"Count\"\n",
    "    );\n",
    "plt.show();"
   ]
  },
  {
   "cell_type": "code",
   "execution_count": 15,
   "id": "658007ec-e007-4b8e-babb-93eb668c5750",
   "metadata": {},
   "outputs": [
    {
     "data": {
      "image/png": "[encoded data removed]",
      "text/plain": [
       "<Figure size 500x500 with 1 Axes>"
      ]
     },
     "metadata": {},
     "output_type": "display_data"
    }
   ],
   "source": [
    "pbp_py_p_long = \\\n",
    "    pbp_py_p\\\n",
    "    .query('pass_length_air_yards == \"long\"')\n",
    "\n",
    "pby_py_hist_long = \\\n",
    "    sns.displot(\n",
    "        data=pbp_py_p_long,\n",
    "        binwidth=1,\n",
    "        x='passing_yards'\n",
    "    );\n",
    "pby_py_hist_long\\\n",
    "    .set_axis_labels(\n",
    "        \"Yards gained (or lost) during a passing play\", \"Count\"\n",
    "    );\n",
    "plt.show();"
   ]
  },
  {
   "cell_type": "markdown",
   "id": "d3dd637d-1cb4-4a80-8fc1-f61f89ab591f",
   "metadata": {},
   "source": [
    "These histograms represent pictorially what you saw numerically in “Summarizing Data”. Specifically, shorter passes have fewer variable outcomes than longer passes."
   ]
  },
  {
   "cell_type": "code",
   "execution_count": 16,
   "id": "d4cb72c5-04e0-4b15-b469-7663adab7ca5",
   "metadata": {},
   "outputs": [
    {
     "data": {
      "image/png": "[encoded data removed]",
      "text/plain": [
       "<Figure size 640x480 with 1 Axes>"
      ]
     },
     "metadata": {},
     "output_type": "display_data"
    }
   ],
   "source": [
    "pass_boxplot = \\\n",
    "    sns.boxplot(data=pbp_py_p,\n",
    "                x=\"pass_length_air_yards\",\n",
    "                y=\"passing_yards\");\n",
    "pass_boxplot.set(\n",
    "    xlabel=\"Pass length (long >= 20 yards, short < 20 yards)\",\n",
    "    ylabel=\"Yards gained (or lost) during a passing play\",\n",
    ");\n",
    "plt.show();"
   ]
  },
  {
   "cell_type": "markdown",
   "id": "ac59d783-6641-4009-a3f3-c9dba3fbfad7",
   "metadata": {},
   "source": [
    "For long passes, the reason why there is no line in the middle of the box is because the median is actually 0 yards (if you think about it, a lot of long passes are incompletions)"
   ]
  },
  {
   "cell_type": "markdown",
   "id": "73034281-4139-4564-9140-c158df3b96d4",
   "metadata": {},
   "source": [
    "Now that you’ve become acquainted with our data, it’s time to use it for player evaluation. The first thing you have to do is aggregate across a prespecified time frame to get a value for each player. While week-level outputs certainly matter, especially for fantasy football and betting (see Chapter 7), most of the time when teams are thinking about trying to acquire a player, they use season-level data (or sometimes data over many seasons).\n",
    "\n",
    "Thus, you aggregate at the season level here, by using the grouby() syntax in Python or group_by() syntax in R. The group by concept borrows from SQL-type database languages. When thinking about the process here, group by may be thought of as a verb. For example, you use the play-by-play data and then group by the seasons and then aggregate (in Python) or summarize (in R) to calculate the mean of the quarterback’s passing YPA.\n",
    "\n",
    "For this problem, take the play-by-play dataframe (pbp_py) and then group by passer_id, passer, season, and pass_length. Group by both the player ID and the player name column because some players have the same name (or at least same first initial and last name), but the name is important for studying the results of the analysis. Start with the whole dataset first before transitioning to the subsets.\n",
    "\n",
    "In Python, use groupby() with a list of the variables that you want to group by. Then aggregate the data for passing_yards for the mean:\n",
    "\n",
    "Collapse the columns by using list(map()). map() iterates over items.\n",
    "\n",
    "Then rename the columns to names that are shorter/more intuitive.\n",
    "\n",
    "Then view the top of the dataframe by sorting by ypa from high to low (ascending=False)"
   ]
  },
  {
   "cell_type": "code",
   "execution_count": 17,
   "id": "df7ee254-7508-4d52-b605-91d35eb1ef89",
   "metadata": {},
   "outputs": [
    {
     "data": {
      "text/html": [
       "<div>\n",
       "<style scoped>\n",
       "    .dataframe tbody tr th:only-of-type {\n",
       "        vertical-align: middle;\n",
       "    }\n",
       "\n",
       "    .dataframe tbody tr th {\n",
       "        vertical-align: top;\n",
       "    }\n",
       "\n",
       "    .dataframe thead th {\n",
       "        text-align: right;\n",
       "    }\n",
       "</style>\n",
       "<table border=\"1\" class=\"dataframe\">\n",
       "  <thead>\n",
       "    <tr style=\"text-align: right;\">\n",
       "      <th></th>\n",
       "      <th></th>\n",
       "      <th></th>\n",
       "      <th></th>\n",
       "      <th>ypa</th>\n",
       "      <th>n</th>\n",
       "    </tr>\n",
       "    <tr>\n",
       "      <th>passer_id</th>\n",
       "      <th>passer</th>\n",
       "      <th>posteam</th>\n",
       "      <th>season</th>\n",
       "      <th></th>\n",
       "      <th></th>\n",
       "    </tr>\n",
       "  </thead>\n",
       "  <tbody>\n",
       "    <tr>\n",
       "      <th>00-0035544</th>\n",
       "      <th>T.Kennedy</th>\n",
       "      <th>DET</th>\n",
       "      <th>2021</th>\n",
       "      <td>75.0</td>\n",
       "      <td>1</td>\n",
       "    </tr>\n",
       "    <tr>\n",
       "      <th>00-0033132</th>\n",
       "      <th>K.Byard</th>\n",
       "      <th>TEN</th>\n",
       "      <th>2018</th>\n",
       "      <td>66.0</td>\n",
       "      <td>1</td>\n",
       "    </tr>\n",
       "    <tr>\n",
       "      <th>00-0031235</th>\n",
       "      <th>O.Beckham</th>\n",
       "      <th>NYG</th>\n",
       "      <th>2018</th>\n",
       "      <td>53.0</td>\n",
       "      <td>2</td>\n",
       "    </tr>\n",
       "    <tr>\n",
       "      <th>00-0030669</th>\n",
       "      <th>A.Wilson</th>\n",
       "      <th>MIA</th>\n",
       "      <th>2018</th>\n",
       "      <td>52.0</td>\n",
       "      <td>1</td>\n",
       "    </tr>\n",
       "    <tr>\n",
       "      <th>00-0029632</th>\n",
       "      <th>M.Sanu</th>\n",
       "      <th>ATL</th>\n",
       "      <th>2017</th>\n",
       "      <td>51.0</td>\n",
       "      <td>1</td>\n",
       "    </tr>\n",
       "  </tbody>\n",
       "</table>\n",
       "</div>"
      ],
      "text/plain": [
       "                                      ypa  n\n",
       "passer_id  passer    posteam season         \n",
       "00-0035544 T.Kennedy DET     2021    75.0  1\n",
       "00-0033132 K.Byard   TEN     2018    66.0  1\n",
       "00-0031235 O.Beckham NYG     2018    53.0  2\n",
       "00-0030669 A.Wilson  MIA     2018    52.0  1\n",
       "00-0029632 M.Sanu    ATL     2017    51.0  1"
      ]
     },
     "execution_count": 17,
     "metadata": {},
     "output_type": "execute_result"
    }
   ],
   "source": [
    "pbp_py_p_seasons =\\\n",
    "    pbp_py_p\\\n",
    "    .groupby([\"passer_id\", \"passer\", \"posteam\", \"season\"])\\\n",
    "    .agg({\"passing_yards\": [\"mean\", \"count\"]})\n",
    "pbp_py_p_seasons.columns = list(map(\"_\".join, pbp_py_p_seasons.columns.values))\n",
    "pbp_py_p_seasons\\\n",
    "    .rename(columns={'passing_yards_mean': 'ypa',\n",
    "                     'passing_yards_count': 'n'},\n",
    "           inplace=True)\n",
    "pbp_py_p_seasons\\\n",
    "    .sort_values(by=[\"ypa\"], ascending=False)\\\n",
    "    .head()"
   ]
  },
  {
   "cell_type": "markdown",
   "id": "651e309d-4b3c-4d91-9b74-f460e593a4a4",
   "metadata": {},
   "source": [
    "Now this isn’t really informative yet, since the players with the highest YPA values are players who threw a pass or two (usually a trick play) that were completed for big yardage. Fix this by filtering for a certain number of passing attempts in a season (let’s say 100) and see what you get.\n",
    "\n",
    "In Python, reuse pbp_py_p_s and the previous code, but include a query() for players with 100 or more pass attempts by using 'n >= 100':"
   ]
  },
  {
   "cell_type": "code",
   "execution_count": 18,
   "id": "f3c3f761-56bd-4532-83cf-a444d697088a",
   "metadata": {},
   "outputs": [
    {
     "data": {
      "text/html": [
       "<div>\n",
       "<style scoped>\n",
       "    .dataframe tbody tr th:only-of-type {\n",
       "        vertical-align: middle;\n",
       "    }\n",
       "\n",
       "    .dataframe tbody tr th {\n",
       "        vertical-align: top;\n",
       "    }\n",
       "\n",
       "    .dataframe thead th {\n",
       "        text-align: right;\n",
       "    }\n",
       "</style>\n",
       "<table border=\"1\" class=\"dataframe\">\n",
       "  <thead>\n",
       "    <tr style=\"text-align: right;\">\n",
       "      <th></th>\n",
       "      <th></th>\n",
       "      <th></th>\n",
       "      <th></th>\n",
       "      <th>ypa</th>\n",
       "      <th>n</th>\n",
       "    </tr>\n",
       "    <tr>\n",
       "      <th>passer_id</th>\n",
       "      <th>passer</th>\n",
       "      <th>posteam</th>\n",
       "      <th>season</th>\n",
       "      <th></th>\n",
       "      <th></th>\n",
       "    </tr>\n",
       "  </thead>\n",
       "  <tbody>\n",
       "    <tr>\n",
       "      <th>00-0023682</th>\n",
       "      <th>R.Fitzpatrick</th>\n",
       "      <th>TB</th>\n",
       "      <th>2018</th>\n",
       "      <td>9.617887</td>\n",
       "      <td>246</td>\n",
       "    </tr>\n",
       "    <tr>\n",
       "      <th>00-0026143</th>\n",
       "      <th>M.Ryan</th>\n",
       "      <th>ATL</th>\n",
       "      <th>2016</th>\n",
       "      <td>9.442155</td>\n",
       "      <td>631</td>\n",
       "    </tr>\n",
       "    <tr>\n",
       "      <th>00-0029701</th>\n",
       "      <th>R.Tannehill</th>\n",
       "      <th>TEN</th>\n",
       "      <th>2019</th>\n",
       "      <td>9.069971</td>\n",
       "      <td>343</td>\n",
       "    </tr>\n",
       "    <tr>\n",
       "      <th>00-0033537</th>\n",
       "      <th>D.Watson</th>\n",
       "      <th>HOU</th>\n",
       "      <th>2020</th>\n",
       "      <td>8.898524</td>\n",
       "      <td>542</td>\n",
       "    </tr>\n",
       "    <tr>\n",
       "      <th>00-0036212</th>\n",
       "      <th>T.Tagovailoa</th>\n",
       "      <th>MIA</th>\n",
       "      <th>2022</th>\n",
       "      <td>8.892231</td>\n",
       "      <td>399</td>\n",
       "    </tr>\n",
       "    <tr>\n",
       "      <th>00-0031345</th>\n",
       "      <th>J.Garoppolo</th>\n",
       "      <th>SF</th>\n",
       "      <th>2017</th>\n",
       "      <td>8.863636</td>\n",
       "      <td>176</td>\n",
       "    </tr>\n",
       "    <tr>\n",
       "      <th>00-0033873</th>\n",
       "      <th>P.Mahomes</th>\n",
       "      <th>KC</th>\n",
       "      <th>2018</th>\n",
       "      <td>8.709678</td>\n",
       "      <td>651</td>\n",
       "    </tr>\n",
       "    <tr>\n",
       "      <th>00-0036442</th>\n",
       "      <th>J.Burrow</th>\n",
       "      <th>CIN</th>\n",
       "      <th>2021</th>\n",
       "      <td>8.673748</td>\n",
       "      <td>659</td>\n",
       "    </tr>\n",
       "    <tr>\n",
       "      <th>00-0026498</th>\n",
       "      <th>M.Stafford</th>\n",
       "      <th>DET</th>\n",
       "      <th>2019</th>\n",
       "      <td>8.647058</td>\n",
       "      <td>289</td>\n",
       "    </tr>\n",
       "    <tr>\n",
       "      <th>00-0031345</th>\n",
       "      <th>J.Garoppolo</th>\n",
       "      <th>SF</th>\n",
       "      <th>2021</th>\n",
       "      <td>8.502935</td>\n",
       "      <td>511</td>\n",
       "    </tr>\n",
       "    <tr>\n",
       "      <th>00-0033319</th>\n",
       "      <th>N.Mullens</th>\n",
       "      <th>SF</th>\n",
       "      <th>2018</th>\n",
       "      <td>8.433333</td>\n",
       "      <td>270</td>\n",
       "    </tr>\n",
       "    <tr>\n",
       "      <th>00-0033537</th>\n",
       "      <th>D.Watson</th>\n",
       "      <th>HOU</th>\n",
       "      <th>2017</th>\n",
       "      <td>8.410892</td>\n",
       "      <td>202</td>\n",
       "    </tr>\n",
       "    <tr>\n",
       "      <th>00-0033077</th>\n",
       "      <th>D.Prescott</th>\n",
       "      <th>DAL</th>\n",
       "      <th>2020</th>\n",
       "      <td>8.398190</td>\n",
       "      <td>221</td>\n",
       "    </tr>\n",
       "    <tr>\n",
       "      <th>00-0034869</th>\n",
       "      <th>S.Darnold</th>\n",
       "      <th>CAR</th>\n",
       "      <th>2022</th>\n",
       "      <td>8.343065</td>\n",
       "      <td>137</td>\n",
       "    </tr>\n",
       "    <tr>\n",
       "      <th>00-0037834</th>\n",
       "      <th>B.Purdy</th>\n",
       "      <th>SF</th>\n",
       "      <th>2022</th>\n",
       "      <td>8.339056</td>\n",
       "      <td>233</td>\n",
       "    </tr>\n",
       "    <tr>\n",
       "      <th>00-0029604</th>\n",
       "      <th>K.Cousins</th>\n",
       "      <th>MIN</th>\n",
       "      <th>2020</th>\n",
       "      <td>8.313840</td>\n",
       "      <td>513</td>\n",
       "    </tr>\n",
       "    <tr>\n",
       "      <th>00-0031345</th>\n",
       "      <th>J.Garoppolo</th>\n",
       "      <th>SF</th>\n",
       "      <th>2019</th>\n",
       "      <td>8.280075</td>\n",
       "      <td>532</td>\n",
       "    </tr>\n",
       "    <tr>\n",
       "      <th>00-0025708</th>\n",
       "      <th>M.Moore</th>\n",
       "      <th>MIA</th>\n",
       "      <th>2016</th>\n",
       "      <td>8.278688</td>\n",
       "      <td>122</td>\n",
       "    </tr>\n",
       "    <tr>\n",
       "      <th>00-0033873</th>\n",
       "      <th>P.Mahomes</th>\n",
       "      <th>KC</th>\n",
       "      <th>2019</th>\n",
       "      <td>8.275167</td>\n",
       "      <td>596</td>\n",
       "    </tr>\n",
       "    <tr>\n",
       "      <th>00-0020531</th>\n",
       "      <th>D.Brees</th>\n",
       "      <th>NO</th>\n",
       "      <th>2017</th>\n",
       "      <td>8.257425</td>\n",
       "      <td>606</td>\n",
       "    </tr>\n",
       "  </tbody>\n",
       "</table>\n",
       "</div>"
      ],
      "text/plain": [
       "                                              ypa    n\n",
       "passer_id  passer        posteam season               \n",
       "00-0023682 R.Fitzpatrick TB      2018    9.617887  246\n",
       "00-0026143 M.Ryan        ATL     2016    9.442155  631\n",
       "00-0029701 R.Tannehill   TEN     2019    9.069971  343\n",
       "00-0033537 D.Watson      HOU     2020    8.898524  542\n",
       "00-0036212 T.Tagovailoa  MIA     2022    8.892231  399\n",
       "00-0031345 J.Garoppolo   SF      2017    8.863636  176\n",
       "00-0033873 P.Mahomes     KC      2018    8.709678  651\n",
       "00-0036442 J.Burrow      CIN     2021    8.673748  659\n",
       "00-0026498 M.Stafford    DET     2019    8.647058  289\n",
       "00-0031345 J.Garoppolo   SF      2021    8.502935  511\n",
       "00-0033319 N.Mullens     SF      2018    8.433333  270\n",
       "00-0033537 D.Watson      HOU     2017    8.410892  202\n",
       "00-0033077 D.Prescott    DAL     2020    8.398190  221\n",
       "00-0034869 S.Darnold     CAR     2022    8.343065  137\n",
       "00-0037834 B.Purdy       SF      2022    8.339056  233\n",
       "00-0029604 K.Cousins     MIN     2020    8.313840  513\n",
       "00-0031345 J.Garoppolo   SF      2019    8.280075  532\n",
       "00-0025708 M.Moore       MIA     2016    8.278688  122\n",
       "00-0033873 P.Mahomes     KC      2019    8.275167  596\n",
       "00-0020531 D.Brees       NO      2017    8.257425  606"
      ]
     },
     "execution_count": 18,
     "metadata": {},
     "output_type": "execute_result"
    }
   ],
   "source": [
    "pbp_py_p_s_100 = \\\n",
    "    pbp_py_p_seasons\\\n",
    "    .query(\"n >= 100\")\\\n",
    "    .sort_values(by=[\"ypa\"], ascending=False)\n",
    "pbp_py_p_s_100.head(20)"
   ]
  },
  {
   "cell_type": "code",
   "execution_count": 19,
   "id": "61b73a0b-0ad8-4a03-9fcd-694e427bc9b8",
   "metadata": {},
   "outputs": [
    {
     "data": {
      "text/plain": [
       "Index(['play_id', 'game_id', 'old_game_id', 'home_team', 'away_team',\n",
       "       'season_type', 'week', 'posteam', 'posteam_type', 'defteam',\n",
       "       ...\n",
       "       'offense_players', 'defense_players', 'n_offense', 'n_defense',\n",
       "       'ngs_air_yards', 'time_to_throw', 'was_pressure', 'route',\n",
       "       'defense_man_zone_type', 'defense_coverage_type'],\n",
       "      dtype='object', length=390)"
      ]
     },
     "execution_count": 19,
     "metadata": {},
     "output_type": "execute_result"
    }
   ],
   "source": [
    "pbp_py.columns"
   ]
  },
  {
   "cell_type": "markdown",
   "id": "f62c734f-ca27-4dd0-af30-ec07f3f5f990",
   "metadata": {},
   "source": [
    "## Deep Passes Versus Short Passes \n",
    "Now, down to the business of the chapter, testing the second part of the hypothesis: “Throwing deep passes is more valuable than short passes, but it’s difficult to say whether or not a quarterback is good at deep passes.” For this stability analysis, do the following steps:\n",
    "\n",
    "Calculate the YPA for each passer for each season.\n",
    "\n",
    "Calculate the YPA for each passer for the previous season.\n",
    "\n",
    "Look at the correlation from the values calculated in steps 1 and 2 to see the stability.\n",
    "\n",
    "Use similar code as before, but include pass_length_air_yards with the group by commands to include pass yards. With this operation, naming becomes hard.\n",
    "\n",
    "We have you use the dataset (play-by-play, pbp), the language (either Python, _py, or R, _r), passing plays (_p), seasons data (_s), and finally, pass length (_pl).\n",
    "\n",
    "For both languages, you will create a copy of the dataframe and then shift the year by adding 1. Then you’ll merge the new dataframe with the original dataframe. This will let you have the current and previous year’s values."
   ]
  },
  {
   "cell_type": "code",
   "execution_count": 20,
   "id": "951f8e23-0463-43fc-8c35-a486a7034692",
   "metadata": {},
   "outputs": [],
   "source": [
    "pbp_py_p_s_pl = \\\n",
    "    pbp_py_p\\\n",
    "    .groupby([\"passer_id\", \"passer\", \"season\", \"pass_length_air_yards\"])\\\n",
    "    .agg({\"passing_yards\": [\"mean\", \"count\"]})\n",
    "pbp_py_p_s_pl.columns =\\\n",
    "    list(map(\"_\".join, pbp_py_p_s_pl.columns.values))\n",
    "pbp_py_p_s_pl\\\n",
    "    .rename(columns={'passing_yards_mean': 'ypa',\n",
    "                     'passing_yards_count': 'n'},\n",
    "            inplace=True)\n",
    "pbp_py_p_s_pl.reset_index(inplace=True)"
   ]
  },
  {
   "cell_type": "markdown",
   "id": "379ac3ae-6d54-447d-8a11-32a8f4aa2ef2",
   "metadata": {},
   "source": [
    "Select only short-passing data from passers with more than 100 such plays and long-passing data for passers with more than 30 such plays:"
   ]
  },
  {
   "cell_type": "code",
   "execution_count": 21,
   "id": "b0276d22-2898-406e-9727-481c12ef23e8",
   "metadata": {},
   "outputs": [],
   "source": [
    "q_value = (\n",
    "    '(n >= 100 & ' +\n",
    "     'pass_length_air_yards == \"short\") | ' +\n",
    "     '(n >= 30 & ' +\n",
    "     'pass_length_air_yards == \"long\")'\n",
    ")\n",
    "pbp_py_p_s_pl = pbp_py_p_s_pl.query(q_value).reset_index()"
   ]
  },
  {
   "cell_type": "markdown",
   "id": "3d1de2dc-8abc-4375-9a33-c98c33f3384e",
   "metadata": {},
   "source": [
    "Then create a list of columns to save (cols_save) and a new dataframe with only these columns (air_yards_py). Include a .copy() so edits will not be passed back to the original dataframe:"
   ]
  },
  {
   "cell_type": "code",
   "execution_count": 22,
   "id": "fc7243d8-9942-4de0-aeff-503dc3e6184b",
   "metadata": {},
   "outputs": [],
   "source": [
    "cols_save =\\\n",
    "    [\"passer_id\", \"passer\", \"season\",\n",
    "     \"pass_length_air_yards\", \"ypa\"]\n",
    "air_yards_py =\\\n",
    "    pbp_py_p_s_pl[cols_save].copy()"
   ]
  },
  {
   "cell_type": "markdown",
   "id": "a74b1113-720f-44ef-9b12-c5525a119257",
   "metadata": {},
   "source": [
    "Next, copy air_yards_py to create air_yards_lag_py. Take the current season value and add 1 by using the shortcut command += and rename the passing_yards_mean to include last (which refers to the one-year offset or delay between the two years):"
   ]
  },
  {
   "cell_type": "code",
   "execution_count": 23,
   "id": "5a343920-d3b4-438b-8f11-ec87e50fcdb6",
   "metadata": {},
   "outputs": [],
   "source": [
    "# This will set a ypa_last column where it holds the ypa of the previous season (season: 2018, ypa_last: ypa_2017)\n",
    "air_yards_lag_py =\\\n",
    "    air_yards_py.copy()\n",
    "air_yards_lag_py[\"season\"] += 1\n",
    "air_yards_lag_py\\\n",
    "    .rename(columns={'ypa': 'ypa_last'},\n",
    "           inplace=True)"
   ]
  },
  {
   "cell_type": "code",
   "execution_count": 24,
   "id": "39607cc3-ab5d-4fd7-bd39-dc11f1921482",
   "metadata": {},
   "outputs": [
    {
     "data": {
      "text/plain": [
       "<bound method NDFrame.head of       passer_id      passer  season pass_length_air_yards        ypa\n",
       "0    00-0019596     T.Brady    2016                  long  15.768116\n",
       "1    00-0019596     T.Brady    2016                 short   7.163022\n",
       "2    00-0019596     T.Brady    2017                  long  13.264706\n",
       "3    00-0019596     T.Brady    2017                 short   7.071429\n",
       "4    00-0019596     T.Brady    2018                  long  10.232877\n",
       "..          ...         ...     ...                   ...        ...\n",
       "498  00-0037327  S.Thompson    2022                 short   4.664122\n",
       "499  00-0037834     B.Purdy    2022                 short   7.720588\n",
       "500  00-0038102   K.Pickett    2022                  long  11.325582\n",
       "501  00-0038102   K.Pickett    2022                 short   5.556522\n",
       "502  00-0038122    D.Ridder    2022                 short   6.068627\n",
       "\n",
       "[503 rows x 5 columns]>"
      ]
     },
     "execution_count": 24,
     "metadata": {},
     "output_type": "execute_result"
    }
   ],
   "source": [
    "air_yards_py.head"
   ]
  },
  {
   "cell_type": "code",
   "execution_count": 25,
   "id": "bb2e435d-425c-4e23-8eb7-91c6805b7b53",
   "metadata": {},
   "outputs": [
    {
     "data": {
      "text/plain": [
       "<bound method NDFrame.head of       passer_id      passer  season pass_length_air_yards   ypa_last\n",
       "0    00-0019596     T.Brady    2017                  long  15.768116\n",
       "1    00-0019596     T.Brady    2017                 short   7.163022\n",
       "2    00-0019596     T.Brady    2018                  long  13.264706\n",
       "3    00-0019596     T.Brady    2018                 short   7.071429\n",
       "4    00-0019596     T.Brady    2019                  long  10.232877\n",
       "..          ...         ...     ...                   ...        ...\n",
       "498  00-0037327  S.Thompson    2023                 short   4.664122\n",
       "499  00-0037834     B.Purdy    2023                 short   7.720588\n",
       "500  00-0038102   K.Pickett    2023                  long  11.325582\n",
       "501  00-0038102   K.Pickett    2023                 short   5.556522\n",
       "502  00-0038122    D.Ridder    2023                 short   6.068627\n",
       "\n",
       "[503 rows x 5 columns]>"
      ]
     },
     "execution_count": 25,
     "metadata": {},
     "output_type": "execute_result"
    }
   ],
   "source": [
    "air_yards_lag_py.head"
   ]
  },
  {
   "cell_type": "markdown",
   "id": "8a3aaffe-35b7-41d5-9e1c-77d4af205c27",
   "metadata": {},
   "source": [
    "Finally, merge() the two dataframes together and use an inner join so only shared years will be saved and join on passer_id, passer, season, and pass_length_air_yards:"
   ]
  },
  {
   "cell_type": "code",
   "execution_count": 26,
   "id": "4881a2c2-9403-4d75-9cee-4fd6fae70636",
   "metadata": {},
   "outputs": [],
   "source": [
    "# Allows us to merge air and air_lag to have ypa and ypa_last on one row for each QB\n",
    "pbp_py_p_s_pl =\\\n",
    "    air_yards_py\\\n",
    "    .merge(air_yards_lag_py,\n",
    "           how='inner',\n",
    "           on=['passer_id', 'passer',\n",
    "               'season', 'pass_length_air_yards'])"
   ]
  },
  {
   "cell_type": "markdown",
   "id": "f8b85d32-b137-4241-8aeb-64d55a6c852b",
   "metadata": {},
   "source": [
    "Check the results of your choice in Python by examining a couple of quarterbacks of your choice such as Patrick Mahomes (P.Mahomes) and Lamar Jackson (L.Jackson) and include only the necessary columns to have an easier-to-view dataframe:"
   ]
  },
  {
   "cell_type": "code",
   "execution_count": 27,
   "id": "0cb73620-2d98-4cf1-99ec-68b4be427c1b",
   "metadata": {},
   "outputs": [
    {
     "name": "stdout",
     "output_type": "stream",
     "text": [
      "    pass_length_air_yards     passer  season        ypa   ypa_last\n",
      "249                  long  L.Jackson    2020  12.365385  11.455882\n",
      "251                  long  L.Jackson    2021  10.703704  12.365385\n",
      "253                  long  L.Jackson    2022   9.121951  10.703704\n",
      "248                 short  L.Jackson    2019   6.974293   6.333333\n",
      "250                 short  L.Jackson    2020   6.671196   6.974293\n",
      "252                 short  L.Jackson    2021   7.111111   6.671196\n",
      "254                 short  L.Jackson    2022   6.577465   7.111111\n",
      "238                  long  P.Mahomes    2019  17.012196  14.627451\n",
      "240                  long  P.Mahomes    2020  11.101266  17.012196\n",
      "242                  long  P.Mahomes    2021  14.011765  11.101266\n",
      "244                  long  P.Mahomes    2022  14.523809  14.011765\n",
      "239                 short  P.Mahomes    2019   6.881323   7.610200\n",
      "241                 short  P.Mahomes    2020   7.552885   6.881323\n",
      "243                 short  P.Mahomes    2021   6.769784   7.552885\n",
      "245                 short  P.Mahomes    2022   7.354744   6.769784\n"
     ]
    }
   ],
   "source": [
    "print(\n",
    "    pbp_py_p_s_pl[[\"pass_length_air_yards\", \"passer\",\n",
    "                    \"season\", \"ypa\", \"ypa_last\"]]\\\n",
    "    .query('passer == \"P.Mahomes\" | passer == \"L.Jackson\"')\\\n",
    "    .sort_values([\"passer\", \"pass_length_air_yards\", \"season\"])\\\n",
    "    .to_string()\n",
    ")"
   ]
  },
  {
   "cell_type": "code",
   "execution_count": 28,
   "id": "b1be307b-0bc6-491b-b5b0-eb7181c1cbcc",
   "metadata": {},
   "outputs": [
    {
     "name": "stdout",
     "output_type": "stream",
     "text": [
      "   pass_length_air_yards     passer  season        ypa   ypa_last\n",
      "47                  long  A.Rodgers    2019  12.092592  12.011628\n",
      "49                  long  A.Rodgers    2020  16.097826  12.092592\n",
      "51                  long  A.Rodgers    2021  14.302631  16.097826\n",
      "53                  long  A.Rodgers    2022  10.312500  14.302631\n",
      "45                 short  A.Rodgers    2017   6.041475   6.693523\n",
      "46                 short  A.Rodgers    2018   6.697446   6.041475\n",
      "48                 short  A.Rodgers    2019   6.207224   6.697446\n",
      "50                 short  A.Rodgers    2020   6.718447   6.207224\n",
      "52                 short  A.Rodgers    2021   6.777083   6.718447\n",
      "54                 short  A.Rodgers    2022   6.239130   6.777083\n",
      "0                   long    T.Brady    2017  13.264706  15.768116\n",
      "2                   long    T.Brady    2018  10.232877  13.264706\n",
      "4                   long    T.Brady    2019  10.828571  10.232877\n",
      "6                   long    T.Brady    2020  12.252101  10.828571\n",
      "8                   long    T.Brady    2021  12.242424  12.252101\n",
      "10                  long    T.Brady    2022  10.802469  12.242424\n",
      "1                  short    T.Brady    2017   7.071429   7.163022\n",
      "3                  short    T.Brady    2018   7.356452   7.071429\n",
      "5                  short    T.Brady    2019   6.048276   7.356452\n",
      "7                  short    T.Brady    2020   6.777600   6.048276\n",
      "9                  short    T.Brady    2021   6.634697   6.777600\n",
      "11                 short    T.Brady    2022   5.832168   6.634697\n"
     ]
    }
   ],
   "source": [
    "print(\n",
    "    pbp_py_p_s_pl[[\"pass_length_air_yards\", \"passer\",\n",
    "                    \"season\", \"ypa\", \"ypa_last\"]]\\\n",
    "    .query('passer == \"T.Brady\" | passer == \"A.Rodgers\"')\\\n",
    "    .sort_values([\"passer\", \"pass_length_air_yards\", \"season\"])\\\n",
    "    .to_string()\n",
    ")"
   ]
  },
  {
   "cell_type": "code",
   "execution_count": 29,
   "id": "fd8d02ac-9e35-4a18-8aa4-5c0c9c9d69f3",
   "metadata": {},
   "outputs": [
    {
     "name": "stdout",
     "output_type": "stream",
     "text": [
      "<class 'pandas.core.frame.DataFrame'>\n",
      "RangeIndex: 315 entries, 0 to 314\n",
      "Data columns (total 6 columns):\n",
      " #   Column                 Non-Null Count  Dtype  \n",
      "---  ------                 --------------  -----  \n",
      " 0   passer_id              315 non-null    object \n",
      " 1   passer                 315 non-null    object \n",
      " 2   season                 315 non-null    int64  \n",
      " 3   pass_length_air_yards  315 non-null    object \n",
      " 4   ypa                    315 non-null    float32\n",
      " 5   ypa_last               315 non-null    float32\n",
      "dtypes: float32(2), int64(1), object(3)\n",
      "memory usage: 12.4+ KB\n"
     ]
    }
   ],
   "source": [
    "pbp_py_p_s_pl.info()"
   ]
  },
  {
   "cell_type": "markdown",
   "id": "ad994fd2-b6fc-4edb-aec5-755aa7229489",
   "metadata": {},
   "source": [
    "The seven columns contain the following data:\n",
    "\n",
    "* passer_id is the unique passer identification number for the player.\n",
    "\n",
    "* passer is the (potentially) nonunique first initial and last name for the passer.\n",
    "\n",
    "* posteam is the team the QB is playing on\n",
    "\n",
    "* pass_length_air_yards is the type of pass (either long or short) you defined earlier.\n",
    "\n",
    "* season is the final season in the season pair (e.g., season being 2017 means you’re comparing 2016 and 2017).\n",
    "\n",
    "* ypa is the yards per attempt during the stated season (e.g., 2017 in the previous example).\n",
    "\n",
    "* ypa_last is the yards per attempt during the season previous to the stated season (e.g., 2016 in the previous example).\n",
    "\n",
    "Now that we’ve reminded ourselves what’s in the data, let’s dig in and see how many quarterbacks you have. With Python, use the passer_id column and find the unique() values and then find the length of this object:"
   ]
  },
  {
   "cell_type": "code",
   "execution_count": 30,
   "id": "e2cb7e95-e398-453c-a5e1-719b038e3c66",
   "metadata": {},
   "outputs": [
    {
     "data": {
      "text/plain": [
       "65"
      ]
     },
     "execution_count": 30,
     "metadata": {},
     "output_type": "execute_result"
    }
   ],
   "source": [
    "len(pbp_py_p_s_pl.passer_id.unique())"
   ]
  },
  {
   "cell_type": "markdown",
   "id": "982ceeb5-52da-4c71-8e64-87ad9b8b8897",
   "metadata": {},
   "source": [
    "You now have a decent sample size of quarterbacks. You can plot this data by using a scatterplot. Scatterplots plot points on a figure, which is in contrast to histograms that plot bins of data and to boxplots that plot summaries of the data such as medians. Scatterplots allow you to “see” the data directly. The horizontal axis is called the x-axis and typically includes the predictor, or causal, variable, if one exists. The vertical axis is called the y-axis and typically includes the response, or effect, variables, if one exists. With our example, you will use the YPA from the previous year as the predictor for YPA in the current year."
   ]
  },
  {
   "cell_type": "code",
   "execution_count": 31,
   "id": "b4a46ee6-e2ab-4734-8a8c-75a93e7a6ae9",
   "metadata": {},
   "outputs": [
    {
     "data": {
      "image/png": "[encoded data removed]",
      "text/plain": [
       "<Figure size 1000x500 with 2 Axes>"
      ]
     },
     "metadata": {},
     "output_type": "display_data"
    }
   ],
   "source": [
    "sns.lmplot(data=pbp_py_p_s_pl,\n",
    "           x=\"ypa\",\n",
    "           y=\"ypa_last\",\n",
    "           col=\"pass_length_air_yards\");\n",
    "plt.show();"
   ]
  },
  {
   "cell_type": "code",
   "execution_count": 32,
   "id": "2a050d16-e0bc-4f4a-a99e-669b00b5c57d",
   "metadata": {},
   "outputs": [
    {
     "data": {
      "text/html": [
       "<div>\n",
       "<style scoped>\n",
       "    .dataframe tbody tr th:only-of-type {\n",
       "        vertical-align: middle;\n",
       "    }\n",
       "\n",
       "    .dataframe tbody tr th {\n",
       "        vertical-align: top;\n",
       "    }\n",
       "\n",
       "    .dataframe thead th {\n",
       "        text-align: right;\n",
       "    }\n",
       "</style>\n",
       "<table border=\"1\" class=\"dataframe\">\n",
       "  <thead>\n",
       "    <tr style=\"text-align: right;\">\n",
       "      <th></th>\n",
       "      <th></th>\n",
       "      <th>ypa</th>\n",
       "      <th>ypa_last</th>\n",
       "    </tr>\n",
       "    <tr>\n",
       "      <th>pass_length_air_yards</th>\n",
       "      <th></th>\n",
       "      <th></th>\n",
       "      <th></th>\n",
       "    </tr>\n",
       "  </thead>\n",
       "  <tbody>\n",
       "    <tr>\n",
       "      <th rowspan=\"2\" valign=\"top\">long</th>\n",
       "      <th>ypa</th>\n",
       "      <td>1.000000</td>\n",
       "      <td>0.232828</td>\n",
       "    </tr>\n",
       "    <tr>\n",
       "      <th>ypa_last</th>\n",
       "      <td>0.232828</td>\n",
       "      <td>1.000000</td>\n",
       "    </tr>\n",
       "    <tr>\n",
       "      <th rowspan=\"2\" valign=\"top\">short</th>\n",
       "      <th>ypa</th>\n",
       "      <td>1.000000</td>\n",
       "      <td>0.440016</td>\n",
       "    </tr>\n",
       "    <tr>\n",
       "      <th>ypa_last</th>\n",
       "      <td>0.440016</td>\n",
       "      <td>1.000000</td>\n",
       "    </tr>\n",
       "  </tbody>\n",
       "</table>\n",
       "</div>"
      ],
      "text/plain": [
       "                                     ypa  ypa_last\n",
       "pass_length_air_yards                             \n",
       "long                  ypa       1.000000  0.232828\n",
       "                      ypa_last  0.232828  1.000000\n",
       "short                 ypa       1.000000  0.440016\n",
       "                      ypa_last  0.440016  1.000000"
      ]
     },
     "execution_count": 32,
     "metadata": {},
     "output_type": "execute_result"
    }
   ],
   "source": [
    "# filter out null values\n",
    "# group by long or short passes and look at the correlation between ypa and ypa_last\n",
    "pbp_py_p_s_pl\\\n",
    "    .query(\"ypa.notnull() & ypa_last.notnull()\")\\\n",
    "    .groupby(\"pass_length_air_yards\")[[\"ypa\", \"ypa_last\"]]\\\n",
    "    .corr()"
   ]
  },
  {
   "cell_type": "markdown",
   "id": "f340a4eb-ecbf-4960-80d2-971cb9276a78",
   "metadata": {},
   "source": [
    "While both datasets include a decent amount of noise, vis-à-vis Pearson’s correlation coefficient, a quarterback’s performance on shorter passes is twice as stable as on longer passes. Thus, you can confirm the second part of the guiding hypothesis of the chapter: “Throwing deep passes is more valuable than short passes, but it’s difficult to say whether or not a quarterback is good at deep passes.”"
   ]
  },
  {
   "cell_type": "markdown",
   "id": "8ff13721-0560-47ba-81ca-ba0e725db8d5",
   "metadata": {},
   "source": [
    "A Pearson’s correlation coefficient can vary from –1 to 1. In the case of stability, a number closer to +1 implies strong, positive correlations and more stability, and a number closer to 0 implies weak correlations at best (and an unstable measure). A Pearson’s correlation coefficient of –1 implies a decreasing correlation and does not exist for stability but would mean a high value this year would be correlated with a low value next year."
   ]
  },
  {
   "cell_type": "markdown",
   "id": "0627bf52-00d0-44c8-a835-e2a158329d77",
   "metadata": {},
   "source": [
    "## So, What Should We Do with This Insight?\n",
    "Generally speaking, noisy data is a place to look for players (or teams or units within teams) that have pop-up seasons that are not likely to repeat themselves. A weaker quarterback who generates a high YPA (or EPA per pass attempt) on deep passes one year — without a corresponding increase in such metrics on shorter passes, the more stable of the two — might be what analysts call a regression candidate."
   ]
  },
  {
   "cell_type": "code",
   "execution_count": 33,
   "id": "3bd03714-5a3f-49f0-9db2-59e54fc76ecd",
   "metadata": {},
   "outputs": [
    {
     "data": {
      "text/html": [
       "<div>\n",
       "<style scoped>\n",
       "    .dataframe tbody tr th:only-of-type {\n",
       "        vertical-align: middle;\n",
       "    }\n",
       "\n",
       "    .dataframe tbody tr th {\n",
       "        vertical-align: top;\n",
       "    }\n",
       "\n",
       "    .dataframe thead th {\n",
       "        text-align: right;\n",
       "    }\n",
       "</style>\n",
       "<table border=\"1\" class=\"dataframe\">\n",
       "  <thead>\n",
       "    <tr style=\"text-align: right;\">\n",
       "      <th></th>\n",
       "      <th>pass_length_air_yards</th>\n",
       "      <th>passer_id</th>\n",
       "      <th>passer</th>\n",
       "      <th>season</th>\n",
       "      <th>ypa</th>\n",
       "    </tr>\n",
       "  </thead>\n",
       "  <tbody>\n",
       "    <tr>\n",
       "      <th>277</th>\n",
       "      <td>long</td>\n",
       "      <td>00-0035228</td>\n",
       "      <td>K.Murray</td>\n",
       "      <td>2020</td>\n",
       "      <td>14.231884</td>\n",
       "    </tr>\n",
       "    <tr>\n",
       "      <th>278</th>\n",
       "      <td>short</td>\n",
       "      <td>00-0035228</td>\n",
       "      <td>K.Murray</td>\n",
       "      <td>2020</td>\n",
       "      <td>6.214137</td>\n",
       "    </tr>\n",
       "    <tr>\n",
       "      <th>279</th>\n",
       "      <td>long</td>\n",
       "      <td>00-0035228</td>\n",
       "      <td>K.Murray</td>\n",
       "      <td>2021</td>\n",
       "      <td>14.582278</td>\n",
       "    </tr>\n",
       "    <tr>\n",
       "      <th>280</th>\n",
       "      <td>short</td>\n",
       "      <td>00-0035228</td>\n",
       "      <td>K.Murray</td>\n",
       "      <td>2021</td>\n",
       "      <td>6.357798</td>\n",
       "    </tr>\n",
       "    <tr>\n",
       "      <th>281</th>\n",
       "      <td>long</td>\n",
       "      <td>00-0035228</td>\n",
       "      <td>K.Murray</td>\n",
       "      <td>2022</td>\n",
       "      <td>6.346939</td>\n",
       "    </tr>\n",
       "    <tr>\n",
       "      <th>282</th>\n",
       "      <td>short</td>\n",
       "      <td>00-0035228</td>\n",
       "      <td>K.Murray</td>\n",
       "      <td>2022</td>\n",
       "      <td>6.085799</td>\n",
       "    </tr>\n",
       "  </tbody>\n",
       "</table>\n",
       "</div>"
      ],
      "text/plain": [
       "    pass_length_air_yards   passer_id    passer  season        ypa\n",
       "277                  long  00-0035228  K.Murray    2020  14.231884\n",
       "278                 short  00-0035228  K.Murray    2020   6.214137\n",
       "279                  long  00-0035228  K.Murray    2021  14.582278\n",
       "280                 short  00-0035228  K.Murray    2021   6.357798\n",
       "281                  long  00-0035228  K.Murray    2022   6.346939\n",
       "282                 short  00-0035228  K.Murray    2022   6.085799"
      ]
     },
     "execution_count": 33,
     "metadata": {},
     "output_type": "execute_result"
    }
   ],
   "source": [
    "pbp_py_p_s_pl\\\n",
    "    .query(\n",
    "        'passer == \"K.Murray\"'\n",
    "        )[[\"pass_length_air_yards\", \"passer_id\", \"passer\", \"season\", \"ypa\"]]\\\n",
    "    .head(10)"
   ]
  },
  {
   "cell_type": "markdown",
   "id": "06d48414-9e13-46db-a981-990fa6559a4f",
   "metadata": {},
   "source": [
    "We can see that there is much more variance for long ypa versus short ypa"
   ]
  },
  {
   "cell_type": "code",
   "execution_count": null,
   "id": "a9f2aae1-ac4c-403c-8966-129e7a71d67a",
   "metadata": {},
   "outputs": [],
   "source": []
  }
 ],
 "metadata": {
  "kernelspec": {
   "display_name": "Python 3 (ipykernel)",
   "language": "python",
   "name": "python3"
  },
  "language_info": {
   "codemirror_mode": {
    "name": "ipython",
    "version": 3
   },
   "file_extension": ".py",
   "mimetype": "text/x-python",
   "name": "python",
   "nbconvert_exporter": "python",
   "pygments_lexer": "ipython3",
   "version": "3.12.4"
  }
 },
 "nbformat": 4,
 "nbformat_minor": 5
}
